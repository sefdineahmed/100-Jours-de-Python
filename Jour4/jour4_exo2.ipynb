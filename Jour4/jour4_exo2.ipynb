{
 "cells": [
  {
   "cell_type": "markdown",
   "id": "7724d015",
   "metadata": {},
   "source": [
    "# Jour 4 : Listes & Boucles avancées"
   ]
  },
  {
   "cell_type": "markdown",
   "id": "d192192f",
   "metadata": {},
   "source": [
    "## Exercice 2 - Jour 4 : Moyenne d’une liste de notes"
   ]
  },
  {
   "cell_type": "code",
   "execution_count": null,
   "id": "6a50a10d",
   "metadata": {},
   "outputs": [],
   "source": [
    "# jour4/exercice2.py\n",
    "# Jour 4 - Boucle for sur une liste\n",
    "\n",
    "notes = [12, 15, 9, 18, 14]\n",
    "\n",
    "print(\"Notes :\", notes)\n",
    "\n",
    "# Calculer la somme manuellement avec une boucle\n",
    "somme = 0\n",
    "for note in notes:\n",
    "    somme += note\n"
   ]
  },
  {
   "cell_type": "code",
   "execution_count": null,
   "id": "830757e4",
   "metadata": {},
   "outputs": [],
   "source": [
    "# Calculer la moyenne\n",
    "moyenne = somme / len(notes)\n",
    "print(f\"La moyenne de la classe est : {moyenne:.2f}\")"
   ]
  },
  {
   "cell_type": "code",
   "execution_count": null,
   "id": "0eaf320d",
   "metadata": {},
   "outputs": [],
   "source": [
    "# Afficher les notes supérieures à la moyenne\n",
    "print(\"\\nNotes supérieures à la moyenne :\")\n",
    "for note in notes:\n",
    "    if note > moyenne:\n",
    "        print(note)"
   ]
  }
 ],
 "metadata": {
  "language_info": {
   "name": "python"
  }
 },
 "nbformat": 4,
 "nbformat_minor": 5
}
