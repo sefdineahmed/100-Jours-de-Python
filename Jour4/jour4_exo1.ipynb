{
 "cells": [
  {
   "cell_type": "markdown",
   "id": "b98494db",
   "metadata": {},
   "source": [
    "# Jour 4 : Listes & Boucles avancées"
   ]
  },
  {
   "cell_type": "markdown",
   "id": "ef7327b4",
   "metadata": {},
   "source": [
    "## Exercice 1 - Jour 4 : Manipulation de liste"
   ]
  },
  {
   "cell_type": "code",
   "execution_count": null,
   "id": "dc2a270b",
   "metadata": {},
   "outputs": [],
   "source": [
    "# jour4/exercice1.py\n",
    "# Jour 4 - Les listes en Python\n",
    "# Création d'une liste de prénoms\n",
    "prenoms = [\"Ahmed\", \"Fatima\", \"Youssef\", \"Nadia\"]\n",
    "print(\"Liste de départ :\", prenoms)"
   ]
  },
  {
   "cell_type": "code",
   "execution_count": null,
   "id": "6a53f74f",
   "metadata": {},
   "outputs": [],
   "source": [
    "# Ajouter un prénom\n",
    "prenoms.append(\"Sara\")\n",
    "print(\"Après ajout :\", prenoms)\n"
   ]
  },
  {
   "cell_type": "code",
   "execution_count": null,
   "id": "ee2aa8a8",
   "metadata": {},
   "outputs": [],
   "source": [
    "# Supprimer un prénom\n",
    "prenoms.remove(\"Youssef\")\n",
    "print(\"Après suppression :\", prenoms)"
   ]
  },
  {
   "cell_type": "code",
   "execution_count": null,
   "id": "924bf539",
   "metadata": {},
   "outputs": [],
   "source": [
    "# Accéder à un élément spécifique\n",
    "print(\"Le premier prénom est :\", prenoms[0])"
   ]
  },
  {
   "cell_type": "code",
   "execution_count": null,
   "id": "b83962df",
   "metadata": {},
   "outputs": [],
   "source": [
    "# Modifier un élément\n",
    "prenoms[1] = \"Khalid\"\n",
    "print(\"Après modification :\", prenoms)\n",
    "\n",
    "# Longueur de la liste\n",
    "print(\"Nombre total de prénoms :\", len(prenoms))"
   ]
  }
 ],
 "metadata": {
  "kernelspec": {
   "display_name": "Python 3",
   "language": "python",
   "name": "python3"
  },
  "language_info": {
   "name": "python",
   "version": "3.11.5"
  }
 },
 "nbformat": 4,
 "nbformat_minor": 5
}
