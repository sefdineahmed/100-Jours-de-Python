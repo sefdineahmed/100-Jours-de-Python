{
 "cells": [
  {
   "cell_type": "markdown",
   "id": "1699a9e3",
   "metadata": {},
   "source": [
    "# Jour 4 : Listes & Boucles avancées"
   ]
  },
  {
   "cell_type": "markdown",
   "id": "5cc30927",
   "metadata": {},
   "source": [
    "## Exercice 3 - Jour 4 : Gestion de liste avec while"
   ]
  },
  {
   "cell_type": "code",
   "execution_count": null,
   "id": "947efdb5",
   "metadata": {},
   "outputs": [],
   "source": [
    "# jour4/exercice3.py\n",
    "# Jour 4 - Boucle while et listes dynamiques\n",
    "\n",
    "courses = []\n",
    "\n",
    "print(\"=== Gestion de la liste de courses ===\")\n",
    "print(\"Tape 'stop' pour terminer.\\n\")\n"
   ]
  },
  {
   "cell_type": "code",
   "execution_count": null,
   "id": "3ea726f6",
   "metadata": {},
   "outputs": [],
   "source": [
    "# Tant que l'utilisateur ne tape pas 'stop'\n",
    "while True:\n",
    "    article = input(\"Ajoute un article : \")\n",
    "    \n",
    "    if article.lower() == \"stop\":\n",
    "        break  # Sortir de la boucle\n",
    "    \n",
    "    courses.append(article)\n",
    "    print(f\"✅ '{article}' ajouté à la liste !\")"
   ]
  },
  {
   "cell_type": "code",
   "execution_count": null,
   "id": "57fd3f0e",
   "metadata": {},
   "outputs": [],
   "source": [
    "# Afficher la liste finale\n",
    "print(\"\\nTa liste de courses finale :\")\n",
    "for item in courses:\n",
    "    print(f\"- {item}\")\n",
    "\n",
    "print(f\"\\nTu as {len(courses)} articles au total 🛒\")"
   ]
  }
 ],
 "metadata": {
  "language_info": {
   "name": "python"
  }
 },
 "nbformat": 4,
 "nbformat_minor": 5
}
