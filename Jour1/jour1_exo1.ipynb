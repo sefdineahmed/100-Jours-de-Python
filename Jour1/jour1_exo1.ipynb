{
 "cells": [
  {
   "cell_type": "code",
   "execution_count": null,
   "id": "86af2fe1",
   "metadata": {},
   "outputs": [
    {
     "name": "stdout",
     "output_type": "stream",
     "text": [
      "Nom : Ahmed\n",
      "Âge : 25\n",
      "Taille : 1.75\n",
      "Étudiant ? True\n"
     ]
    }
   ],
   "source": [
    "# -------------------------------\n",
    "# Déclarer des variables\n",
    "# -------------------------------\n",
    "nom = \"Ahmed\"        # Variable texte (string)\n",
    "age = 25             # Variable nombre entier (int)\n",
    "taille = 1.75        # Variable nombre décimal (float)\n",
    "est_etudiant = True  # Variable booléenne (True ou False)\n",
    "\n",
    "# -------------------------------\n",
    "# Afficher les variables\n",
    "# -------------------------------\n",
    "print(\"Nom :\", nom)\n",
    "\n",
    "print(\"Âge :\", age)\n",
    "print(\"Taille :\", taille)\n",
    "print(\"Étudiant ?\", est_etudiant)\n",
    "\n"
   ]
  },
  {
   "cell_type": "code",
   "execution_count": 2,
   "id": "7e1a29ba",
   "metadata": {},
   "outputs": [
    {
     "name": "stdout",
     "output_type": "stream",
     "text": [
      "Nouvel âge : 26\n"
     ]
    }
   ],
   "source": [
    "# -------------------------------\n",
    "# 3 Modifier une variable\n",
    "# -------------------------------\n",
    "age = age + 1  # Ahmed fête son anniversaire\n",
    "print(\"Nouvel âge :\", age)"
   ]
  },
  {
   "cell_type": "code",
   "execution_count": 3,
   "id": "aa93795b",
   "metadata": {},
   "outputs": [
    {
     "name": "stdout",
     "output_type": "stream",
     "text": [
      "Bonjour Ahmed, tu as 26 ans et ta taille est 1.75 m.\n"
     ]
    }
   ],
   "source": [
    "# -------------------------------\n",
    "# Combiner variables et texte\n",
    "# -------------------------------\n",
    "message = f\"Bonjour {nom}, tu as {age} ans et ta taille est {taille} m.\"\n",
    "print(message)"
   ]
  },
  {
   "cell_type": "code",
   "execution_count": 4,
   "id": "d6ac6d6f",
   "metadata": {},
   "outputs": [
    {
     "name": "stdout",
     "output_type": "stream",
     "text": [
      "Ravi de te rencontrer, Sefdine !\n"
     ]
    }
   ],
   "source": [
    "# -------------------------------\n",
    "# 5Petite interaction avec l'utilisateur\n",
    "# -------------------------------\n",
    "prenom_utilisateur = input(\"Comment tu t'appelles ? \")\n",
    "print(f\"Ravi de te rencontrer, {prenom_utilisateur} !\")"
   ]
  },
  {
   "cell_type": "code",
   "execution_count": null,
   "id": "2702fa68",
   "metadata": {},
   "outputs": [],
   "source": []
  }
 ],
 "metadata": {
  "kernelspec": {
   "display_name": "Python 3",
   "language": "python",
   "name": "python3"
  },
  "language_info": {
   "codemirror_mode": {
    "name": "ipython",
    "version": 3
   },
   "file_extension": ".py",
   "mimetype": "text/x-python",
   "name": "python",
   "nbconvert_exporter": "python",
   "pygments_lexer": "ipython3",
   "version": "3.11.5"
  }
 },
 "nbformat": 4,
 "nbformat_minor": 5
}
