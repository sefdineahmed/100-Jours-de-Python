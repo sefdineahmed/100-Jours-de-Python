{
 "cells": [
  {
   "cell_type": "code",
   "execution_count": 1,
   "id": "3e46c2f2",
   "metadata": {},
   "outputs": [],
   "source": [
    "# Apprentissage Python - Jour 1 : Variables et calculs de base\n",
    "# Demander les informations à l'utilisateur\n",
    "nom = input(\"Quel est ton nom ? \")\n",
    "heures_travaillees = float(input(\"Combien d'heures as-tu travaillées ce mois-ci ? \"))\n",
    "taux_horaire = float(input(\"Quel est ton taux horaire (€) ? \"))\n"
   ]
  },
  {
   "cell_type": "code",
   "execution_count": 2,
   "id": "64964fbb",
   "metadata": {},
   "outputs": [],
   "source": [
    "# Calcul du salaire brut\n",
    "salaire_brut = heures_travaillees * taux_horaire\n",
    "\n",
    "# Application d'un taux d'imposition simple (exemple : 20%)\n",
    "taux_impot = 0.20\n",
    "salaire_net = salaire_brut * (1 - taux_impot)"
   ]
  },
  {
   "cell_type": "code",
   "execution_count": 3,
   "id": "f784c6fc",
   "metadata": {},
   "outputs": [
    {
     "name": "stdout",
     "output_type": "stream",
     "text": [
      "\n",
      "--- Résumé du salaire ---\n",
      "Nom : Sefdine\n",
      "Heures travaillées : 160.0\n",
      "Taux horaire : 20.0 €\n",
      "Salaire brut : 3200.00 €\n",
      "Salaire net après impôt : 2560.00 €\n"
     ]
    }
   ],
   "source": [
    "# Affichage des résultats\n",
    "print(\"\\n--- Résumé du salaire ---\")\n",
    "print(f\"Nom : {nom}\")\n",
    "print(f\"Heures travaillées : {heures_travaillees}\")\n",
    "print(f\"Taux horaire : {taux_horaire} €\")\n",
    "print(f\"Salaire brut : {salaire_brut:.2f} €\")\n",
    "print(f\"Salaire net après impôt : {salaire_net:.2f} €\")"
   ]
  },
  {
   "cell_type": "code",
   "execution_count": 4,
   "id": "f3e5472b",
   "metadata": {},
   "outputs": [
    {
     "name": "stdout",
     "output_type": "stream",
     "text": [
      "\n",
      "Bravo Sefdine, ton travail paye bien ! 💪\n"
     ]
    }
   ],
   "source": [
    "# Petit message de motivation\n",
    "print(f\"\\nBravo {nom}, ton travail paye bien ! 💪\")"
   ]
  },
  {
   "cell_type": "code",
   "execution_count": null,
   "id": "71d34ba0",
   "metadata": {},
   "outputs": [],
   "source": []
  }
 ],
 "metadata": {
  "kernelspec": {
   "display_name": "Python 3",
   "language": "python",
   "name": "python3"
  },
  "language_info": {
   "codemirror_mode": {
    "name": "ipython",
    "version": 3
   },
   "file_extension": ".py",
   "mimetype": "text/x-python",
   "name": "python",
   "nbconvert_exporter": "python",
   "pygments_lexer": "ipython3",
   "version": "3.11.5"
  }
 },
 "nbformat": 4,
 "nbformat_minor": 5
}
