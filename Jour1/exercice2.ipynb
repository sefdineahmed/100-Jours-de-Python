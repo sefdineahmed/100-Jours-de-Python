{
 "cells": [
  {
   "cell_type": "code",
   "execution_count": null,
   "id": "945a39fd",
   "metadata": {},
   "outputs": [],
   "source": [
    "# Apprentissage Python - Jour 1 : Variables et calculs simples\n",
    "\n",
    "# Demander le nom de l'utilisateur\n",
    "nom = input(\"Quel est ton nom ? \")\n",
    "\n",
    "# Demander l'âge de l'utilisateur\n",
    "age = int(input(\"Quel âge as-tu ? \"))\n"
   ]
  },
  {
   "cell_type": "code",
   "execution_count": null,
   "id": "270e82b0",
   "metadata": {},
   "outputs": [],
   "source": [
    "# Calculer l'âge dans 10 ans\n",
    "age_dans_10_ans = age + 10\n",
    "\n",
    "# Calculer combien d'années il reste pour atteindre 100 ans\n",
    "reste_100_ans = 100 - age\n",
    "\n",
    "# Afficher les résultats\n",
    "print(f\"Bonjour {nom} !\")\n",
    "print(f\"Dans 10 ans, tu auras {age_dans_10_ans} ans.\")\n",
    "print(f\"Tu atteindras 100 ans dans {reste_100_ans} ans.\")"
   ]
  },
  {
   "cell_type": "code",
   "execution_count": null,
   "id": "1815cf8c",
   "metadata": {},
   "outputs": [],
   "source": [
    "# Bonus : vérifier si l'utilisateur a déjà plus de 100 ans\n",
    "if age > 100:\n",
    "    print(\"Wow ! Tu as déjà plus de 100 ans !\")"
   ]
  }
 ],
 "metadata": {
  "kernelspec": {
   "display_name": "Python 3",
   "language": "python",
   "name": "python3"
  },
  "language_info": {
   "name": "python",
   "version": "3.11.5"
  }
 },
 "nbformat": 4,
 "nbformat_minor": 5
}
