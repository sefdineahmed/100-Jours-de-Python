{
 "cells": [
  {
   "cell_type": "markdown",
   "id": "d8fb9879",
   "metadata": {},
   "source": [
    "# Jour 3 : Fonctions — Définition, Arguments et Return"
   ]
  },
  {
   "cell_type": "markdown",
   "id": "11051d40",
   "metadata": {},
   "source": [
    "## Jour 3 - Fonctions : arguments et return"
   ]
  },
  {
   "cell_type": "code",
   "execution_count": 1,
   "id": "1a1d0cb6",
   "metadata": {},
   "outputs": [],
   "source": [
    "# jour3/exercice2.py\n",
    "# Jour 3 - Fonctions : arguments et return\n",
    "\n",
    "# Définir une fonction qui calcule la moyenne de trois nombres\n",
    "def moyenne(a, b, c):\n",
    "    resultat = (a + b + c) / 3\n",
    "    return resultat"
   ]
  },
  {
   "cell_type": "code",
   "execution_count": 5,
   "id": "ce98dd47",
   "metadata": {},
   "outputs": [
    {
     "name": "stdout",
     "output_type": "stream",
     "text": [
      " note1 =19.0, note2 =10.0 et note3 = 11.0\n"
     ]
    }
   ],
   "source": [
    "# Demander des valeurs à l'utilisateur\n",
    "note1 = float(input(\"Entre la première note : \"))\n",
    "note2 = float(input(\"Entre la deuxième note : \"))\n",
    "note3 = float(input(\"Entre la troisième note : \"))\n",
    "print(f\" note1 ={note1}, note2 ={note2} et note3 = {note3}\")"
   ]
  },
  {
   "cell_type": "code",
   "execution_count": 6,
   "id": "7d4929ee",
   "metadata": {},
   "outputs": [
    {
     "name": "stdout",
     "output_type": "stream",
     "text": [
      "La moyenne des notes est : 13.33\n"
     ]
    }
   ],
   "source": [
    "# Appeler la fonction et stocker le résultat\n",
    "moy = moyenne(note1, note2, note3)\n",
    "\n",
    "# Afficher le résultat\n",
    "print(f\"La moyenne des notes est : {moy:.2f}\")"
   ]
  },
  {
   "cell_type": "code",
   "execution_count": 8,
   "id": "9de33091",
   "metadata": {},
   "outputs": [
    {
     "name": "stdout",
     "output_type": "stream",
     "text": [
      "Félicitations, tu as réussi !\n"
     ]
    }
   ],
   "source": [
    "# Petit bonus\n",
    "if moy >= 10:\n",
    "    print(\"Félicitations, tu as réussi !\")\n",
    "else:\n",
    "    print(\"Dommage, il faut réviser un peu.\")"
   ]
  },
  {
   "cell_type": "code",
   "execution_count": null,
   "id": "fab51179",
   "metadata": {},
   "outputs": [],
   "source": []
  }
 ],
 "metadata": {
  "kernelspec": {
   "display_name": "Python 3",
   "language": "python",
   "name": "python3"
  },
  "language_info": {
   "codemirror_mode": {
    "name": "ipython",
    "version": 3
   },
   "file_extension": ".py",
   "mimetype": "text/x-python",
   "name": "python",
   "nbconvert_exporter": "python",
   "pygments_lexer": "ipython3",
   "version": "3.11.5"
  }
 },
 "nbformat": 4,
 "nbformat_minor": 5
}
