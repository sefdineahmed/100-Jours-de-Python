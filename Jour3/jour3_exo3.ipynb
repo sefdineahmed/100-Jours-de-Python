{
 "cells": [
  {
   "cell_type": "markdown",
   "id": "2ceb5a35",
   "metadata": {},
   "source": [
    "# Jour 3 : Fonctions — Définition, Arguments et Return"
   ]
  },
  {
   "cell_type": "markdown",
   "id": "2a4d74f3",
   "metadata": {},
   "source": [
    "## Jour 3 - Fonctions : plusieurs fonctions, choix utilisateur"
   ]
  },
  {
   "cell_type": "code",
   "execution_count": null,
   "id": "8d1ce587",
   "metadata": {},
   "outputs": [],
   "source": [
    "# jour3/exercice3.py\n",
    "# Jour 3 - Fonctions : plusieurs fonctions, choix utilisateur\n",
    "\n",
    "# Définition des fonctions\n",
    "def addition(a, b):\n",
    "    return a + b\n",
    "\n",
    "def soustraction(a, b):\n",
    "    return a - b\n",
    "\n",
    "def multiplication(a, b):\n",
    "    return a * b\n",
    "\n",
    "def division(a, b):\n",
    "    if b != 0:\n",
    "        return a / b\n",
    "    else:\n",
    "        return \"Erreur : division par zéro\"\n",
    "\n",
    "# Programme principal\n",
    "print(\"Bienvenue dans la mini calculatrice\")"
   ]
  },
  {
   "cell_type": "code",
   "execution_count": null,
   "id": "e9ec0d7a",
   "metadata": {},
   "outputs": [],
   "source": [
    "a = float(input(\"Entre le premier nombre : \"))\n",
    "b = float(input(\"Entre le deuxième nombre : \"))\n",
    "\n",
    "print(\"\\nChoisis une opération :\")\n",
    "print(\"1 - Addition\")\n",
    "print(\"2 - Soustraction\")\n",
    "print(\"3 - Multiplication\")\n",
    "print(\"4 - Division\")"
   ]
  },
  {
   "cell_type": "code",
   "execution_count": null,
   "id": "e8015c50",
   "metadata": {},
   "outputs": [],
   "source": [
    "choix = input(\"Ton choix : \")\n",
    "print(f\"tu a choisi {choix}\")"
   ]
  },
  {
   "cell_type": "code",
   "execution_count": null,
   "id": "d94c9f5c",
   "metadata": {},
   "outputs": [],
   "source": [
    "# Utiliser la fonction selon le choix\n",
    "if choix == \"1\":\n",
    "    resultat = addition(a, b)\n",
    "elif choix == \"2\":\n",
    "    resultat = soustraction(a, b)\n",
    "elif choix == \"3\":\n",
    "    resultat = multiplication(a, b)\n",
    "elif choix == \"4\":\n",
    "    resultat = division(a, b)\n",
    "else:\n",
    "    resultat = \"Choix invalide !\""
   ]
  },
  {
   "cell_type": "code",
   "execution_count": null,
   "id": "4779e7a5",
   "metadata": {},
   "outputs": [],
   "source": [
    "# Afficher le résultat\n",
    "print(f\"\\nRésultat : {resultat}\")\n",
    "print(\"Fin du Jour 3 - Exercice 3\")"
   ]
  }
 ],
 "metadata": {
  "kernelspec": {
   "display_name": "Python 3",
   "language": "python",
   "name": "python3"
  },
  "language_info": {
   "name": "python",
   "version": "3.11.5"
  }
 },
 "nbformat": 4,
 "nbformat_minor": 5
}
