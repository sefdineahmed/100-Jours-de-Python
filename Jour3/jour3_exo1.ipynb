{
 "cells": [
  {
   "cell_type": "markdown",
   "id": "ef5e7596",
   "metadata": {},
   "source": [
    "# Jour 3 : Fonctions — Définition, Arguments et Return"
   ]
  },
  {
   "cell_type": "markdown",
   "id": "86f14bb4",
   "metadata": {},
   "source": [
    "## Jour 3 - Fonctions : définition simple"
   ]
  },
  {
   "cell_type": "code",
   "execution_count": 3,
   "id": "ed81851f",
   "metadata": {},
   "outputs": [],
   "source": [
    "# jour3/exercice1.py\n",
    "# Jour 3 - Fonctions : définition simple\n",
    "\n",
    "# Définir une fonction qui salue l'utilisateur\n",
    "def saluer(prenom):\n",
    "    print(f\"Bonjour {prenom}, ravi de te voir coder en Python !\")"
   ]
  },
  {
   "cell_type": "code",
   "execution_count": 4,
   "id": "84928b35",
   "metadata": {},
   "outputs": [
    {
     "name": "stdout",
     "output_type": "stream",
     "text": [
      "Bonjour Ahmed, ravi de te voir coder en Python !\n",
      "Bonjour Fatima, ravi de te voir coder en Python !\n",
      "Bonjour Youssef, ravi de te voir coder en Python !\n"
     ]
    }
   ],
   "source": [
    "# Appeler la fonction avec différents prénoms\n",
    "saluer(\"Ahmed\")\n",
    "saluer(\"Fatima\")\n",
    "saluer(\"Youssef\")"
   ]
  },
  {
   "cell_type": "code",
   "execution_count": null,
   "id": "68b3afef",
   "metadata": {},
   "outputs": [],
   "source": []
  }
 ],
 "metadata": {
  "kernelspec": {
   "display_name": "Python 3",
   "language": "python",
   "name": "python3"
  },
  "language_info": {
   "codemirror_mode": {
    "name": "ipython",
    "version": 3
   },
   "file_extension": ".py",
   "mimetype": "text/x-python",
   "name": "python",
   "nbconvert_exporter": "python",
   "pygments_lexer": "ipython3",
   "version": "3.11.5"
  }
 },
 "nbformat": 4,
 "nbformat_minor": 5
}
