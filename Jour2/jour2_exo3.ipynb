{
 "cells": [
  {
   "cell_type": "markdown",
   "id": "0223ebd7",
   "metadata": {},
   "source": [
    "# Jour 2 : Conditions & Boucles\n",
    "\n",
    "## Exercice 3 – Boucle for"
   ]
  },
  {
   "cell_type": "code",
   "execution_count": 1,
   "id": "12bcebbb",
   "metadata": {},
   "outputs": [
    {
     "name": "stdout",
     "output_type": "stream",
     "text": [
      "vous avez choisi n = 7\n",
      "Table de multiplication de 7 :\n",
      "7 x 1 = 7\n",
      "7 x 2 = 14\n",
      "7 x 3 = 21\n",
      "7 x 4 = 28\n",
      "7 x 5 = 35\n",
      "7 x 6 = 42\n",
      "7 x 7 = 49\n",
      "7 x 8 = 56\n",
      "7 x 9 = 63\n",
      "7 x 10 = 70\n"
     ]
    }
   ],
   "source": [
    "# Jour 2 - Exercice 3 : Boucle for\n",
    "\n",
    "# Demander un nombre à l'utilisateur\n",
    "n = int(input(\"Donne-moi un nombre : \"))\n",
    "print(f\"vous avez choisi n = {n}\")\n",
    "\n",
    "# Afficher la table de multiplication jusqu'à 10\n",
    "print(f\"Table de multiplication de {n} :\")\n",
    "for i in range(1, 11):\n",
    "    resultat = n * i\n",
    "    print(f\"{n} x {i} = {resultat}\")"
   ]
  },
  {
   "cell_type": "code",
   "execution_count": 2,
   "id": "ce18c345",
   "metadata": {},
   "outputs": [
    {
     "name": "stdout",
     "output_type": "stream",
     "text": [
      "J'aime manger pomme\n",
      "J'aime manger banane\n",
      "J'aime manger orange\n"
     ]
    }
   ],
   "source": [
    "# Bonus : boucle sur une liste\n",
    "fruits = [\"pomme\", \"banane\", \"orange\"]\n",
    "for fruit in fruits:\n",
    "    print(f\"J'aime manger {fruit}\")"
   ]
  },
  {
   "cell_type": "code",
   "execution_count": null,
   "id": "c1b338f5",
   "metadata": {},
   "outputs": [],
   "source": []
  }
 ],
 "metadata": {
  "kernelspec": {
   "display_name": "Python 3",
   "language": "python",
   "name": "python3"
  },
  "language_info": {
   "codemirror_mode": {
    "name": "ipython",
    "version": 3
   },
   "file_extension": ".py",
   "mimetype": "text/x-python",
   "name": "python",
   "nbconvert_exporter": "python",
   "pygments_lexer": "ipython3",
   "version": "3.11.5"
  }
 },
 "nbformat": 4,
 "nbformat_minor": 5
}
