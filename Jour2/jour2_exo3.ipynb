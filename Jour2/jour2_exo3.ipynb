{
 "cells": [
  {
   "cell_type": "markdown",
   "id": "0223ebd7",
   "metadata": {},
   "source": [
    "# Jour 2 : Conditions & Boucles\n",
    "\n",
    "## Exercice 3 – Boucle for"
   ]
  },
  {
   "cell_type": "code",
   "execution_count": null,
   "id": "12bcebbb",
   "metadata": {},
   "outputs": [
    {
     "name": "stdout",
     "output_type": "stream",
     "text": [
      "vous avez choisi n = 2\n",
      "Table de multiplication de 2 :\n",
      "2 x 1 = 2\n",
      "2 x 2 = 4\n",
      "2 x 3 = 6\n",
      "2 x 4 = 8\n",
      "2 x 5 = 10\n",
      "2 x 6 = 12\n",
      "2 x 7 = 14\n",
      "2 x 8 = 16\n",
      "2 x 9 = 18\n",
      "2 x 10 = 20\n"
     ]
    }
   ],
   "source": [
    "# Jour 2 - Exercice 3 : Boucle for\n",
    "\n",
    "# Demander un nombre à l'utilisateur\n",
    "n = int(input(\"Donne-moi un nombre : \"))\n",
    "print(f\"vous avez choisi n = {n}\")\n",
    "\n",
    "# Afficher la table de multiplication jusqu'à 10\n",
    "print(f\"Table de multiplication de {n} :\")\n",
    "for i in range(1, 11):\n",
    "    resultat = n * i\n",
    "    print(f\"{n} x {i} = {resultat}\")"
   ]
  },
  {
   "cell_type": "code",
   "execution_count": 2,
   "id": "ce18c345",
   "metadata": {},
   "outputs": [
    {
     "name": "stdout",
     "output_type": "stream",
     "text": [
      "J'aime manger pomme\n",
      "J'aime manger banane\n",
      "J'aime manger orange\n"
     ]
    }
   ],
   "source": [
    "# Bonus : boucle sur une liste\n",
    "fruits = [\"pomme\", \"banane\", \"orange\"]\n",
    "for fruit in fruits:\n",
    "    print(f\"J'aime manger {fruit}\")"
   ]
  },
  {
   "cell_type": "markdown",
   "id": "61280eca",
   "metadata": {},
   "source": []
  }
 ],
 "metadata": {
  "kernelspec": {
   "display_name": "Python 3",
   "language": "python",
   "name": "python3"
  },
  "language_info": {
   "codemirror_mode": {
    "name": "ipython",
    "version": 3
   },
   "file_extension": ".py",
   "mimetype": "text/x-python",
   "name": "python",
   "nbconvert_exporter": "python",
   "pygments_lexer": "ipython3",
   "version": "3.11.5"
  }
 },
 "nbformat": 4,
 "nbformat_minor": 5
}
