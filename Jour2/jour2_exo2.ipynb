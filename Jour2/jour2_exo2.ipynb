{
 "cells": [
  {
   "cell_type": "markdown",
   "id": "51a663e2",
   "metadata": {},
   "source": [
    "# Jour 2 : Conditions & Boucles\n",
    "\n",
    "## Exercice 2 – Boucle while"
   ]
  },
  {
   "cell_type": "code",
   "execution_count": null,
   "id": "e39f0d2d",
   "metadata": {},
   "outputs": [],
   "source": [
    "# Jour 2 - Exercice 2 : Boucle while\n",
    "\n",
    "# Jeu simple : deviner un nombre\n",
    "secret = 7\n",
    "tentative = 0\n",
    "nombre = -1\n",
    "\n",
    "print(\"Devine le nombre secret (entre 1 et 10)\")\n",
    "\n",
    "while nombre != secret:\n",
    "    nombre = int(input(\"Ton choix : \"))\n",
    "    tentative += 1\n",
    "\n",
    "    if nombre < secret:\n",
    "        print(\"Trop petit !\")\n",
    "    elif nombre > secret:\n",
    "        print(\"Trop grand !\")\n",
    "    else:\n",
    "        print(f\"Bravo ! Tu as trouvé le nombre en {tentative} essais\")\n"
   ]
  },
  {
   "cell_type": "code",
   "execution_count": null,
   "id": "5a0567bf",
   "metadata": {},
   "outputs": [],
   "source": []
  }
 ],
 "metadata": {
  "kernelspec": {
   "display_name": "Python 3",
   "language": "python",
   "name": "python3"
  },
  "language_info": {
   "name": "python",
   "version": "3.11.5"
  }
 },
 "nbformat": 4,
 "nbformat_minor": 5
}
