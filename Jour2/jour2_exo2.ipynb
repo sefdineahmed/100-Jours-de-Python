{
 "cells": [
  {
   "cell_type": "markdown",
   "id": "51a663e2",
   "metadata": {},
   "source": [
    "# Jour 2 : Conditions & Boucles\n",
    "\n",
    "## Exercice 2 – Boucle for"
   ]
  },
  {
   "cell_type": "code",
   "execution_count": null,
   "id": "b7de9438",
   "metadata": {},
   "outputs": [],
   "source": [
    "# Jour 2 - Exercice 2 : Boucle for\n",
    "\n",
    "# Demander un nombre à l'utilisateur\n",
    "n = int(input(\"Donne-moi un nombre : \"))\n",
    "print(f\"vous avez choisi n = {n}\")\n",
    "\n",
    "# Afficher la table de multiplication jusqu'à 10\n",
    "print(f\"Table de multiplication de {n} :\")\n",
    "for i in range(1, 11):\n",
    "    resultat = n * i\n",
    "    print(f\"{n} x {i} = {resultat}\")"
   ]
  },
  {
   "cell_type": "code",
   "execution_count": null,
   "id": "fc8a0cb1",
   "metadata": {},
   "outputs": [],
   "source": [
    "# Bonus : boucle sur une liste\n",
    "fruits = [\"pomme\", \"banane\", \"orange\"]\n",
    "for fruit in fruits:\n",
    "    print(f\"J'aime manger {fruit}\")"
   ]
  }
 ],
 "metadata": {
  "kernelspec": {
   "display_name": "Python 3",
   "language": "python",
   "name": "python3"
  },
  "language_info": {
   "name": "python",
   "version": "3.11.5"
  }
 },
 "nbformat": 4,
 "nbformat_minor": 5
}
