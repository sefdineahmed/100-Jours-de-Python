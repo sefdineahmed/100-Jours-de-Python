{
 "cells": [
  {
   "cell_type": "markdown",
   "id": "ff94e28a",
   "metadata": {},
   "source": [
    "# Jour 2 : Conditions & Boucles\n",
    "\n",
    "## Exercice 1 – Conditions if/else"
   ]
  },
  {
   "cell_type": "code",
   "execution_count": 1,
   "id": "b59595dc",
   "metadata": {},
   "outputs": [
    {
     "name": "stdout",
     "output_type": "stream",
     "text": [
      "Vous avez 34 ans\n",
      "Tu peux voter !\n"
     ]
    }
   ],
   "source": [
    "# Jour 2 - Exercice 1 : Conditions if/else\n",
    "\n",
    "# Demander à l'utilisateur son âge\n",
    "age = int(input(\"Quel âge as-tu ? \"))\n",
    "print(f\"Vous avez {age} ans\")\n",
    "\n",
    "# Vérifier s'il peut voter\n",
    "if age >= 18:\n",
    "    print(\"Tu peux voter !\")\n",
    "else:\n",
    "    print(\"Désolé, tu es trop jeune pour voter\")\n"
   ]
  },
  {
   "cell_type": "code",
   "execution_count": 2,
   "id": "651546bc",
   "metadata": {},
   "outputs": [
    {
     "name": "stdout",
     "output_type": "stream",
     "text": [
      "Adulte confirmé !\n"
     ]
    }
   ],
   "source": [
    "# Bonus : messages personnalisés\n",
    "if age < 13:\n",
    "    print(\"Tu es encore un enfant !\")\n",
    "elif age < 20:\n",
    "    print(\"Tu es un adolescent !\")\n",
    "else:\n",
    "    print(\"Adulte confirmé !\")"
   ]
  },
  {
   "cell_type": "code",
   "execution_count": null,
   "id": "c8e1787b",
   "metadata": {},
   "outputs": [],
   "source": []
  }
 ],
 "metadata": {
  "kernelspec": {
   "display_name": "Python 3",
   "language": "python",
   "name": "python3"
  },
  "language_info": {
   "codemirror_mode": {
    "name": "ipython",
    "version": 3
   },
   "file_extension": ".py",
   "mimetype": "text/x-python",
   "name": "python",
   "nbconvert_exporter": "python",
   "pygments_lexer": "ipython3",
   "version": "3.11.5"
  }
 },
 "nbformat": 4,
 "nbformat_minor": 5
}
